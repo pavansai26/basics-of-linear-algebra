{
  "nbformat": 4,
  "nbformat_minor": 0,
  "metadata": {
    "colab": {
      "name": "basics of linear algebra.ipynb",
      "provenance": [],
      "private_outputs": true,
      "authorship_tag": "ABX9TyMK3lfvlsA9g/8t5mlQtZtX",
      "include_colab_link": true
    },
    "kernelspec": {
      "name": "python3",
      "display_name": "Python 3"
    },
    "accelerator": "GPU"
  },
  "cells": [
    {
      "cell_type": "markdown",
      "metadata": {
        "id": "view-in-github",
        "colab_type": "text"
      },
      "source": [
        "<a href=\"https://colab.research.google.com/github/pavansai26/basics-of-linear-algebra/blob/master/basics_of_linear_algebra.ipynb\" target=\"_parent\"><img src=\"https://colab.research.google.com/assets/colab-badge.svg\" alt=\"Open In Colab\"/></a>"
      ]
    },
    {
      "cell_type": "code",
      "metadata": {
        "id": "l4Cd4qfnS0L4",
        "colab_type": "code",
        "colab": {}
      },
      "source": [
        "from IPython.display import Image\n",
        "from IPython.core.display import HTML \n",
        "Image(url= \"https://i.imgur.com/OR21M2N.png\", width=700)"
      ],
      "execution_count": 0,
      "outputs": []
    },
    {
      "cell_type": "code",
      "metadata": {
        "id": "z2Aq_im7T9Ct",
        "colab_type": "code",
        "colab": {}
      },
      "source": [
        "import numpy as np\n",
        "\n",
        "w = np.array([1.2,0,1.1,0,1.4,1.5])\n",
        "b = 1.2\n",
        "\n",
        "pi = (w,b) \n",
        "\n",
        "print(type(w))\n",
        "print(w.size)\n",
        "\n",
        "pi_0 = (w,0)\n",
        "#NOTE: pi_0 and pi are parallel to each other."
      ],
      "execution_count": 0,
      "outputs": []
    },
    {
      "cell_type": "code",
      "metadata": {
        "id": "1sgkGFGXUHVk",
        "colab_type": "code",
        "colab": {}
      },
      "source": [
        "# unit vector: w_hat from w\n",
        "Image(url= \"https://i.imgur.com/w2lNsYq.png\", width=700)\n"
      ],
      "execution_count": 0,
      "outputs": []
    },
    {
      "cell_type": "code",
      "metadata": {
        "id": "DXB9nbNrUNla",
        "colab_type": "code",
        "colab": {}
      },
      "source": [
        "# unit vector: w_hat from w\n",
        "import math\n",
        "w_norm = math.sqrt(np.dot(w,w)) # Google:\"NumPy Dot product of vctors\" ---> https://docs.scipy.org/doc/numpy/reference/generated/numpy.dot.html\n",
        "print(w_norm)\n",
        "\n",
        "print(np.linalg.norm(w, 2)) # Google: \"NumPy norm of a vector\" --> https://docs.scipy.org/doc/numpy/reference/generated/numpy.linalg.norm.html\n",
        "\n",
        "w_hat = w/w_norm\n",
        "\n",
        "print(w_hat)\n",
        "print(np.linalg.norm(w_hat, 2))"
      ],
      "execution_count": 0,
      "outputs": []
    },
    {
      "cell_type": "code",
      "metadata": {
        "id": "KRYbagmQUi6s",
        "colab_type": "code",
        "colab": {}
      },
      "source": [
        "# Angle between 2 vectors v1 and v2.\n",
        "Image(url= \"https://i.imgur.com/zvFu6Du.png\", width=400)"
      ],
      "execution_count": 0,
      "outputs": []
    },
    {
      "cell_type": "code",
      "metadata": {
        "id": "zOwsW26_Upb_",
        "colab_type": "code",
        "colab": {}
      },
      "source": [
        "# angle between 2 vectors\n",
        "np.random.seed(100)\n",
        "\n",
        "v1 = np.random.rand(6) # a random vector of 6-dim\n",
        "v2 = np.random.rand(6)\n",
        "\n",
        "angle_12 = math.acos(np.dot(v1,v2)/(np.linalg.norm(v1, 2) * np.linalg.norm(v2, 2)))\n",
        "print(angle_12) # in radians"
      ],
      "execution_count": 0,
      "outputs": []
    },
    {
      "cell_type": "code",
      "metadata": {
        "id": "PRWyMPB5VZNb",
        "colab_type": "code",
        "colab": {}
      },
      "source": [
        "# Distance from point to a plane.\n",
        "Image(url= \"https://i.imgur.com/SXT6ct1.png\", width=500)"
      ],
      "execution_count": 0,
      "outputs": []
    },
    {
      "cell_type": "code",
      "metadata": {
        "id": "JxoXZ9m0Vj-m",
        "colab_type": "code",
        "colab": {}
      },
      "source": [
        "import math\n",
        "np.random.seed(100)\n",
        "\n",
        "w = np.random.rand(6)\n",
        "b = 1.2\n",
        "\n",
        "x = np.random.rand(6)\n",
        "\n",
        "d = abs( (np.dot(w,x)+b)/ np.linalg.norm(w,2) )\n",
        "print(d)\n",
        "\n",
        "#How would you test if this code is correct?\n",
        "# we use abs in equation due to distance should not be in negative so we use abs\n"
      ],
      "execution_count": 0,
      "outputs": []
    },
    {
      "cell_type": "code",
      "metadata": {
        "id": "ftIE3xR4WpWD",
        "colab_type": "code",
        "colab": {}
      },
      "source": [
        "# simple test-cases\n",
        "import math\n",
        "np.random.seed(100)\n",
        "\n",
        "w = np.array([1,0,0,0,0,0])\n",
        "b = 0\n",
        "\n",
        "x = np.array([23,0,0,0,0,0])\n",
        "\n",
        "d = abs( (np.dot(w,x)+b)/ np.linalg.norm(w,2) )\n",
        "print(d)"
      ],
      "execution_count": 0,
      "outputs": []
    },
    {
      "cell_type": "code",
      "metadata": {
        "id": "VHFIkYYHX2Ie",
        "colab_type": "code",
        "colab": {}
      },
      "source": [
        "# +ve or -ve halfspace\n",
        "Image(url= \"https://i.imgur.com/7QEOe2D.png\", width=500)"
      ],
      "execution_count": 0,
      "outputs": []
    },
    {
      "cell_type": "code",
      "metadata": {
        "id": "798UnWSsYsSW",
        "colab_type": "code",
        "colab": {}
      },
      "source": [
        "import math\n",
        "np.random.seed(100)\n",
        "\n",
        "w = np.random.rand(6)\n",
        "b = 1.2\n",
        "\n",
        "x = np.random.rand(6)\n",
        "\n",
        "sign =  np.sign( (np.dot(w,x)+b)/ np.linalg.norm(w,2) )\n",
        "print(sign)\n",
        "\n",
        "# How to test it?"
      ],
      "execution_count": 0,
      "outputs": []
    },
    {
      "cell_type": "code",
      "metadata": {
        "id": "R39NRtjbZZM4",
        "colab_type": "code",
        "colab": {}
      },
      "source": [
        "import math\n",
        "np.random.seed(100)\n",
        "\n",
        "w = np.random.rand(6)\n",
        "b = 1.2\n",
        "\n",
        "x = np.array([0,0,0,0,0,0])\n",
        "\n",
        "sign =  np.sign( (np.dot(w,x)+b)/ np.linalg.norm(w,2) )\n",
        "print(sign)\n",
        "\n",
        "# GOOD IDEA: Implement all of these above snippets as functions so taht we can reuse them"
      ],
      "execution_count": 0,
      "outputs": []
    },
    {
      "cell_type": "code",
      "metadata": {
        "id": "a_qNBz_QZxIO",
        "colab_type": "code",
        "colab": {}
      },
      "source": [
        ""
      ],
      "execution_count": 0,
      "outputs": []
    },
    {
      "cell_type": "markdown",
      "metadata": {
        "id": "dFt1dhPUaNvI",
        "colab_type": "text"
      },
      "source": [
        "Matrices\n",
        "Often used to represent data: data matrices\n",
        "Basic Operations: Add, Multiply\n",
        "Frobenius norm\n",
        "Haddarmard product"
      ]
    },
    {
      "cell_type": "code",
      "metadata": {
        "id": "_0Y8uSehaPJ2",
        "colab_type": "code",
        "colab": {}
      },
      "source": [
        ""
      ],
      "execution_count": 0,
      "outputs": []
    }
  ]
}